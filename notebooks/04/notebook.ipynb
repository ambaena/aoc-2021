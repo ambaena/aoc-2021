{
 "cells": [
  {
   "cell_type": "markdown",
   "metadata": {},
   "source": [
    "# **Day 4**: *Giant Squid*"
   ]
  },
  {
   "cell_type": "markdown",
   "metadata": {},
   "source": [
    "### Input:\n",
    "\n",
    "- Read input as lines.\n",
    "- Get first line as call numbers.\n",
    "- Create list of boards ( list of lists )"
   ]
  },
  {
   "cell_type": "code",
   "execution_count": 184,
   "metadata": {},
   "outputs": [],
   "source": [
    "with open('input', 'r') as f:\n",
    "    input =[r.strip() for r in f.readlines()]\n",
    "\n",
    "numbers = input.pop(0).split(',')\n",
    "boards_input = []\n",
    "\n",
    "lines = []\n",
    "for line in input[1:]:\n",
    "    if line == '':\n",
    "        lines = []\n",
    "        boards_input.append(lines)\n",
    "    else:\n",
    "        lines.append(list(filter(None,line.split(' '))))"
   ]
  },
  {
   "cell_type": "markdown",
   "metadata": {},
   "source": [
    "## Quiz #1"
   ]
  },
  {
   "cell_type": "markdown",
   "metadata": {},
   "source": [
    "\n",
    "### Description:\n",
    "\n",
    "You're already almost 1.5km (almost a mile) below the surface of the ocean, already so deep that you can't see any sunlight. What you can see, however, is a giant squid that has attached itself to the outside of your submarine.\n",
    "\n",
    "Maybe it wants to play bingo?\n",
    "\n",
    "Bingo is played on a set of boards each consisting of a 5x5 grid of numbers. Numbers are chosen at random, and the chosen number is marked on all boards on which it appears. (Numbers may not appear on all boards.) If all numbers in any row or any column of a board are marked, that board wins. (Diagonals don't count.)\n",
    "\n",
    "The submarine has a bingo subsystem to help passengers (currently, you and the giant squid) pass the time. It automatically generates a random order in which to draw numbers and a random set of boards (your puzzle input). For example:\n",
    "\n",
    "```\n",
    "    7,4,9,5,11,17,23,2,0,14,21,24,10,16,13,6,15,25,12,22,18,20,8,19,3,26,1\n",
    "\n",
    "    22 13 17 11  0\n",
    "     8  2 23  4 24\n",
    "    21  9 14 16  7\n",
    "     6 10  3 18  5\n",
    "     1 12 20 15 19\n",
    "\n",
    "     3 15  0  2 22\n",
    "     9 18 13 17  5\n",
    "    19  8  7 25 23\n",
    "    20 11 10 24  4\n",
    "    14 21 16 12  6\n",
    "\n",
    "    14 21 17 24  4\n",
    "    10 16 15  9 19\n",
    "    18  8 23 26 20\n",
    "    22 11 13  6  5\n",
    "     2  0 12  3  7\n",
    "```\n",
    "\n",
    "After the first five numbers are drawn (7, 4, 9, 5, and 11), there are no winners, but the boards are marked as follows (shown here adjacent to each other to save space):\n",
    "\n",
    "```\n",
    "22 13 17 11  0         3 15  0  2 22        14 21 17 24  4\n",
    " 8  2 23  4 24         9 18 13 17  5        10 16 15  9 19\n",
    "21  9 14 16  7        19  8  7 25 23        18  8 23 26 20\n",
    " 6 10  3 18  5        20 11 10 24  4        22 11 13  6  5\n",
    " 1 12 20 15 19        14 21 16 12  6         2  0 12  3  7\n",
    " ```\n",
    " \n",
    "After the next six numbers are drawn (17, 23, 2, 0, 14, and 21), there are still no winners:\n",
    "\n",
    "```\n",
    "22 13 17 11  0         3 15  0  2 22        14 21 17 24  4\n",
    " 8  2 23  4 24         9 18 13 17  5        10 16 15  9 19\n",
    "21  9 14 16  7        19  8  7 25 23        18  8 23 26 20\n",
    " 6 10  3 18  5        20 11 10 24  4        22 11 13  6  5\n",
    " 1 12 20 15 19        14 21 16 12  6         2  0 12  3  7\n",
    " ```\n",
    "\n",
    "Finally, 24 is drawn:\n",
    "\n",
    "```\n",
    "22 13 17 11  0         3 15  0  2 22        14 21 17 24  4\n",
    " 8  2 23  4 24         9 18 13 17  5        10 16 15  9 19\n",
    "21  9 14 16  7        19  8  7 25 23        18  8 23 26 20\n",
    " 6 10  3 18  5        20 11 10 24  4        22 11 13  6  5\n",
    " 1 12 20 15 19        14 21 16 12  6         2  0 12  3  7\n",
    " ```\n",
    "\n",
    "At this point, the third board wins because it has at least one complete row or column of marked numbers (in this case, the entire top row is marked: 14 21 17 24 4).\n",
    "\n",
    "The score of the winning board can now be calculated. Start by finding the sum of all unmarked numbers on that board; in this case, the sum is 188. Then, multiply that sum by the number that was just called when the board won, 24, to get the final score, 188 * 24 = 4512.\n",
    "\n",
    "**To guarantee victory against the giant squid, figure out which board will win first. What will your final score be if you choose that board?**\n",
    "\n"
   ]
  },
  {
   "cell_type": "markdown",
   "metadata": {},
   "source": [
    "### Solution:"
   ]
  },
  {
   "cell_type": "code",
   "execution_count": 185,
   "metadata": {},
   "outputs": [],
   "source": [
    "class BingoNumber:\n",
    "    def __init__(self, num): \n",
    "        self.number = int(num)\n",
    "        self.marked = False\n",
    "    \n",
    "    def __repr__(self):\n",
    "        return f'{self.number} {\"[X]\" if self.marked else \"[ ]\"}'\n",
    "\n",
    "    def is_marked(self):\n",
    "        return self.marked\n",
    "    \n",
    "    def get_number(self):\n",
    "        return int(self.number)\n",
    "    \n",
    "    def mark(self):\n",
    "        self.marked = True\n",
    "    \n",
    "    def unmark(self):\n",
    "        self.marked = False\n",
    "\n",
    "class BingoBoard:\n",
    "    def __init__(self, rows):\n",
    "\n",
    "        board = []\n",
    "        for row in rows:\n",
    "            board.append([BingoNumber(num) for num in row])\n",
    "\n",
    "        self.rows = board\n",
    "        self.cols =  list(map(list, zip(*board)))\n",
    "        self.winner = False\n",
    "        self.score = None \n",
    "        self.size = len(rows[0])\n",
    "        self.winning_number = None\n",
    "\n",
    "    def __repr__(self):\n",
    "        return str([row for row in self.rows])\n",
    "\n",
    "    def get_marked(self):\n",
    "        marked = []\n",
    "        for row in self.rows:\n",
    "            for num in row:\n",
    "                if num.is_marked():\n",
    "                    marked.append(num.get_number())                  \n",
    "        return list(set(marked))\n",
    "    \n",
    "    def get_unmarked(self):\n",
    "        unmarked = []\n",
    "        for row in self.rows:\n",
    "            for num in row:\n",
    "                if not num.is_marked():\n",
    "                    unmarked.append(num.get_number())                  \n",
    "        return list(set(unmarked))\n",
    "\n",
    "    def wins(self):\n",
    "        return self.winner\n",
    "    \n",
    "    def update_winner(self):\n",
    "        for row, col in zip(self.rows, self.cols):\n",
    "            if all([num.is_marked() for num in row]) or all([num.is_marked() for num in col]):\n",
    "                self.winner = True\n",
    "                break\n",
    "    \n",
    "    def mark_number(self, number):\n",
    "        already_winner = self.winner\n",
    "        for item in range(self.size):\n",
    "            for row, pos in zip(self.rows,range(0, self.size)):\n",
    "                if row[item].get_number() == number:\n",
    "                    row[item].mark()\n",
    "\n",
    "        self.cols = list(map(list, zip(*self.rows)))\n",
    "        self.update_winner()\n",
    "        if not already_winner and self.wins():\n",
    "            self.winning_number = number\n",
    "\n",
    "    def get_score(self):\n",
    "        return sum(self.get_unmarked()) * self.winning_number\n"
   ]
  },
  {
   "cell_type": "code",
   "execution_count": 186,
   "metadata": {},
   "outputs": [],
   "source": [
    "boards = [BingoBoard(board) for board in boards_input]"
   ]
  },
  {
   "cell_type": "code",
   "execution_count": 182,
   "metadata": {},
   "outputs": [
    {
     "data": {
      "text/plain": [
       "34506"
      ]
     },
     "execution_count": 182,
     "metadata": {},
     "output_type": "execute_result"
    }
   ],
   "source": [
    "winner = False\n",
    "index = 0\n",
    "\n",
    "while (not winner) and index < len(numbers):\n",
    "    for board in boards:\n",
    "        board.mark_number(int(numbers[index]))\n",
    "        if board.wins():\n",
    "            score = board.get_score()\n",
    "            winner = board.wins()\n",
    "\n",
    "\n",
    "score"
   ]
  },
  {
   "cell_type": "markdown",
   "metadata": {},
   "source": [
    "## Quiz #2"
   ]
  },
  {
   "cell_type": "markdown",
   "metadata": {},
   "source": [
    "### Description:\n",
    "\n",
    "On the other hand, it might be wise to try a different strategy: let the giant squid win.\n",
    "\n",
    "You aren't sure how many bingo boards a giant squid could play at once, so rather than waste time counting its arms, the safe thing to do is to figure out which board will win last and choose that one. That way, no matter which boards it picks, it will win for sure.\n",
    "\n",
    "In the above example, the second board is the last to win, which happens after 13 is eventually called and its middle column is completely marked. If you were to keep playing until this point, the second board would have a sum of unmarked numbers equal to 148 for a final score of 148 * 13 = 1924.\n",
    "\n",
    "**Figure out which board will win last. Once it wins, what would its final score be?**"
   ]
  },
  {
   "cell_type": "markdown",
   "metadata": {},
   "source": [
    "### Solution:"
   ]
  },
  {
   "cell_type": "code",
   "execution_count": 193,
   "metadata": {},
   "outputs": [],
   "source": [
    "boards = [BingoBoard(board) for board in boards_input]"
   ]
  },
  {
   "cell_type": "code",
   "execution_count": 194,
   "metadata": {},
   "outputs": [
    {
     "data": {
      "text/plain": [
       "7686"
      ]
     },
     "execution_count": 194,
     "metadata": {},
     "output_type": "execute_result"
    }
   ],
   "source": [
    "for num in numbers:\n",
    "    for board in boards:\n",
    "        before_mark = board.wins()\n",
    "        board.mark_number(int(num))\n",
    "        if board.wins() and not before_mark:\n",
    "            score = board.get_score()\n",
    "\n",
    "\n",
    "score"
   ]
  }
 ],
 "metadata": {
  "interpreter": {
   "hash": "31f2aee4e71d21fbe5cf8b01ff0e069b9275f58929596ceb00d14d90e3e16cd6"
  },
  "kernelspec": {
   "display_name": "Python 3.8.9 64-bit",
   "language": "python",
   "name": "python3"
  },
  "language_info": {
   "codemirror_mode": {
    "name": "ipython",
    "version": 3
   },
   "file_extension": ".py",
   "mimetype": "text/x-python",
   "name": "python",
   "nbconvert_exporter": "python",
   "pygments_lexer": "ipython3",
   "version": "3.8.9"
  },
  "orig_nbformat": 4
 },
 "nbformat": 4,
 "nbformat_minor": 2
}
